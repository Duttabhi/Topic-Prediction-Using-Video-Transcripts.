{
 "cells": [
  {
   "cell_type": "markdown",
   "metadata": {},
   "source": [
    "# Finding topics of Youtube videos. "
   ]
  },
  {
   "cell_type": "markdown",
   "metadata": {},
   "source": [
    "## Contents\n",
    "\n",
    "1. Readings\n",
    "2. Requirements\n",
    "3. Procedure\n",
    "4. Diagram\n",
    "5. Working\n",
    "6. Conclusion"
   ]
  },
  {
   "cell_type": "markdown",
   "metadata": {},
   "source": [
    "## 1. Readings\n",
    "\n",
    "#### a. Topic modelling\n",
    "\n",
    "It is a process to automatically identify topics present in a text object and to derive hidden patterns exhibited by a text corpus. It assists in better decision making.\n",
    "      \n",
    "#### b. LDA(Latent Dirichlet Allocation)\n",
    "\n",
    "LDA’s approach to topic modeling is that, it considers each document as a collection of topics in a certain proportion, and each topic as a collection of keywords, again, in a certain proportion.\n",
    "\n",
    "Once we provide the algorithm with the number of topics, all it does it to rearrange the topics distribution within the documents and keywords distribution within the topics to obtain a good composition of topic-keywords distribution."
   ]
  },
  {
   "cell_type": "markdown",
   "metadata": {},
   "source": [
    "## 2. Requirements\n",
    "\n",
    "* python 3.7\n",
    "* jupyter notebook 5.7.4\n",
    "* pafy 0.5.4\n",
    "* ffmpeg 0.1.17\n",
    "* spaCy 2.0.18\n",
    "* nltk 3.4\n",
    "* gensim 3.6.0\n",
    "* google sppech API\n",
    "\n",
    "## 3. Procedure\n",
    "\n",
    "1. **Download pafy, tqdm, FFmpeg, spaCy, nltk and gensim. Enable google speech to text API and set its credentials**.\n",
    "2. import packages\n",
    "3. Extract audio from video.\n",
    "4. Convert .webm to .wav format.\n",
    "5. Break the audio file in smaller audio parts(here, 30 seconds each).\n",
    "6. Convert each audio to text and store the transcription in one text file.\n",
    "7. Similar process is applied to all the videos. \n",
    "8. Get transcription of some videos and combine in one to prepare the data-set.\n",
    "9. Remove repetition, similar words, stop words(cleaning) and tokenize it.\n",
    "10. Prepare a dicitionary for it and select some best topics out of it(using LDA model).\n",
    "11. Provide the transcription to model and slect the topic with more probability.\n",
    "12. Assign the most suitable lable.\n",
    "13. Check for correctness of topic."
   ]
  },
  {
   "cell_type": "markdown",
   "metadata": {},
   "source": [
    "## 4 Diagram "
   ]
  },
  {
   "cell_type": "code",
   "execution_count": 4,
   "metadata": {},
   "outputs": [
    {
     "data": {
      "image/png": "[encoded data removed]",
      "text/plain": [
       "<IPython.core.display.Image object>"
      ]
     },
     "execution_count": 4,
     "metadata": {
      "image/png": {
       "height": 300,
       "width": 700
      }
     },
     "output_type": "execute_result"
    }
   ],
   "source": [
    "from IPython.display import Image\n",
    "Image(filename = r\"C:\\Users\\Inspiron 15\\Desktop\\images\\Block Diagram.png\", width = 700, height = 300)"
   ]
  },
  {
   "cell_type": "markdown",
   "metadata": {},
   "source": [
    "## 5. Working \n",
    "\n",
    "### a. To get the audio from youtube videos\n",
    "\n",
    "* **pafy 0.5.4** is being used.\n",
    "\n",
    "* Each line contains the URL of the youtube videos which is provided to us file and indices(*1,2,3...,50*) are removed from each line to get the URL.\n",
    "\n",
    "* Best audio is being downloaded in appropriate location. \n",
    "\n",
    "* Next cell contains the code."
   ]
  },
  {
   "cell_type": "code",
   "execution_count": null,
   "metadata": {},
   "outputs": [],
   "source": [
    "#code for extracting audio from a youtube video\n",
    "\n",
    "import pafy\n",
    "\n",
    "fileName = r\"...\\read.txt\"   # file from which URLs are fetched\n",
    "with open(fileName,'r') as f:\n",
    "    for str in f:\n",
    "        url = str.lstrip('0123456789. ') #removing the numbers in front of URL like, 3. https://www.youtube.com/watch?v=0Dc-FPlOsn0 is converted to >>https://www.youtube.com/watch?v=0Dc-FPlOsn0\n",
    "        print(url)\n",
    "        video = pafy.new(url) \n",
    "        bestaudio = video.getbestaudio() \n",
    "        bestaudio.download(r\"...\\store\\\\\") # path where audi files are stored\n",
    "\n",
    "print(\"success \")"
   ]
  },
  {
   "cell_type": "markdown",
   "metadata": {},
   "source": [
    "#### Input\n",
    "\n",
    "* File conatains the list of youtube videos.\n",
    "\n",
    "https://github.com/Duttabhi/TopicModelling/blob/master/read.txt\n",
    "\n",
    "#### Output\n",
    "* Following link is the sample audio file which is fetched from above code. This sample is audio of the **first youtube video** which is listed in the file. \n",
    "**Rest audio files are not uploaded as it require good connectivity**.\n",
    "\n",
    "* Audio file is of the form .webm. It is hence **converted** to .wav format(both .webm and .wav file is uploaded).\n",
    "\n",
    "https://drive.google.com/drive/u/0/folders/1p9u9MopqoMU-YRukxLfXYImwt4zHyUCj\n"
   ]
  },
  {
   "cell_type": "markdown",
   "metadata": {},
   "source": [
    "### b. Converting audio to text\n",
    "\n",
    "* Google speech API is used. \n",
    "* Account is created in google cloud platfrom. After that, Google speech API is enabled.\n",
    "* .json file is downloaded and google_cloud_speech_credentials are set. \n",
    "* Since google speech API only allows an audio of 60 seconds at a time. Audio is first chunked into smaller audios.\n",
    "* FFmpeg is used is used to split audio in smaller segments of 30 seconds.\n",
    "* **Command: ffmpeg -i [.wav file path] -f segment -segment_time 30 -c copy [...\\out%09d.wav]**\n",
    "* **out%09d** allows number in the format outXXXXXXXXX where X is a digit.\n",
    "* Now, the chunked files are sorted so that they can be fed seriallly.\n",
    "* A for loop is used to load audio file one by one for transcription.\n",
    "* After each transcription the text are appended one after another.\n",
    "* Finally, the stored in appropriate file.\n",
    "* Following code illustrate it."
   ]
  },
  {
   "cell_type": "code",
   "execution_count": null,
   "metadata": {},
   "outputs": [],
   "source": [
    "import os\n",
    "import speech_recognition as sr\n",
    "from tqdm import tqdm\n",
    "\n",
    "with open(r\"path_to_json_file\\textToSpeech.json\") as f:\n",
    "    GOOGLE_CLOUD_SPEECH_CREDENTIALS = f.read()\n",
    "\n",
    "r = sr.Recognizer()\n",
    "files = sorted(os.listdir(r'path_to_all_the_chunked_audio_files')) #sorting the chunked files\n",
    "\n",
    "all_text = []\n",
    "\n",
    "for f in tqdm(files):\n",
    "    name = r\"path_to_all_the_chunked_audio_files\" + f # f is name of the files which are fed\n",
    "    # Load audio file\n",
    "    with sr.AudioFile(name) as source:\n",
    "        audio = r.record(source)\n",
    "    # Transcribe audio file\n",
    "    text = r.recognize_google_cloud(audio, credentials_json=GOOGLE_CLOUD_SPEECH_CREDENTIALS)\n",
    "    all_text.append(text) #appending the transcription one after another.\n",
    "transcript = \"\"\n",
    "for i, t in enumerate(all_text):\n",
    "    total_seconds = i * 30\n",
    "\n",
    "\n",
    "\n",
    "#print(transcript)\n",
    "\n",
    "with open(file_name_in_which_transcript_will_be_stored, \"w\") as f: #storing the transcription in appropriate file.\n",
    "    f.write(transcript)\n"
   ]
  },
  {
   "cell_type": "markdown",
   "metadata": {},
   "source": [
    "#### Output\n",
    "\n",
    "* Following is the sample transcription of first Youtube video for about 7 minutes.\n",
    "* **The transcription has time-stamp of 30 seconds**(As mentioned in code above).\n",
    "\n",
    "https://github.com/Duttabhi/TopicModelling/blob/master/SampleTranscription.txt"
   ]
  },
  {
   "cell_type": "markdown",
   "metadata": {},
   "source": [
    "### c. Tokenizing \n",
    "\n",
    "* About 20 videos transcriptions are combined and is tokenized as follows using spaCy.\n",
    "* **spaCy 2.0.18** is used."
   ]
  },
  {
   "cell_type": "code",
   "execution_count": null,
   "metadata": {},
   "outputs": [],
   "source": [
    "import spacy\n",
    "spacy.load('en')\n",
    "from spacy.lang.en import English\n",
    "parser = English()\n",
    "def tokenize(text):\n",
    "    lda_tokens = []\n",
    "    tokens = parser(text)\n",
    "    for token in tokens:\n",
    "        if token.orth_.isspace():\n",
    "            continue\n",
    "        elif token.like_url:\n",
    "            lda_tokens.append('URL')\n",
    "        elif token.orth_.startswith('@'):\n",
    "            lda_tokens.append('SCREEN_NAME')\n",
    "        else:\n",
    "            lda_tokens.append(token.lower_)\n",
    "    return lda_tokens"
   ]
  },
  {
   "cell_type": "markdown",
   "metadata": {},
   "source": [
    "### d. Cleaning the data\n",
    "\n",
    "* Common words, words with similar meaning and stop words are removed.\n",
    "* **nltk 3.4** is used.\n",
    "* After that a function is defined to use all these above mentioned functionalities and prepare the text for topic modelling.\n"
   ]
  },
  {
   "cell_type": "code",
   "execution_count": null,
   "metadata": {},
   "outputs": [],
   "source": [
    "import nltk\n",
    "nltk.download('wordnet')\n",
    "from nltk.corpus import wordnet as wn\n",
    "def get_lemma(word):\n",
    "    lemma = wn.morphy(word)\n",
    "    if lemma is None:\n",
    "        return word\n",
    "    else:\n",
    "        return lemma\n",
    "    \n",
    "from nltk.stem.wordnet import WordNetLemmatizer\n",
    "def get_lemma2(word):\n",
    "    return WordNetLemmatizer().lemmatize(word)\n",
    "\n",
    "nltk.download('stopwords')\n",
    "en_stop = set(nltk.corpus.stopwords.words('english'))\n",
    "\n",
    "\n",
    "def prepare_text_for_lda(text):\n",
    "    tokens = tokenize(text)\n",
    "    tokens = [token for token in tokens if len(token) > 4]\n",
    "    tokens = [token for token in tokens if token not in en_stop]\n",
    "    tokens = [get_lemma(token) for token in tokens]\n",
    "    return tokens"
   ]
  },
  {
   "cell_type": "markdown",
   "metadata": {},
   "source": [
    "### e. Creating dictionary \n",
    "\n",
    "* For each cleaned and tokenized line select random tokens which have probaility more than 99% to occur.\n",
    "* Used **gensim 3.6.0** for LDA(Latent Dirichlet Allocation) model preparation to perform topic modelling. \n",
    "* Best 10 topics are generated."
   ]
  },
  {
   "cell_type": "code",
   "execution_count": 3,
   "metadata": {},
   "outputs": [
    {
     "name": "stdout",
     "output_type": "stream",
     "text": [
      "['technique']\n",
      "['wonderful', 'right']\n",
      "['somebody']\n",
      "['developing', 'another', 'develop']\n",
      "['important', 'clean', 'client']\n",
      "['everybody', 'studio']\n",
      "['think', 'young', 'photographer']\n",
      "['first', 'account']\n",
      "['industry']\n",
      "['take', 'build']\n",
      "['relationship', 'take']\n",
      "['seeing', 'bikers', 'face']\n",
      "['willing', 'whatever', 'take']\n",
      "['really', 'important']\n",
      "['beautiful', 'session', 'together']\n",
      "['right', 'thing', 'accept']\n",
      "['could', 'wrong', 'happen']\n",
      "['great', 'seam', 'seam']\n",
      "['actually', 'build', 'beard', 'right']\n",
      "['pull', 'alive']\n",
      "['seven', 'important']\n",
      "['processing', 'general']\n",
      "['wonderful', 'boutique', 'place']\n",
      "['graphics', 'aaron', 'extremely']\n",
      "['government', 'official', 'working']\n",
      "['really', 'europe']\n",
      "['sometimes', 'heart', 'pull']\n",
      "[]\n",
      "['designing', 'really', 'important']\n",
      "['engineer', 'building', 'things']\n",
      "['somewhere', 'start']\n",
      "['hear']\n",
      "['range', 'vertical', 'conduct']\n",
      "['chapter']\n",
      "['implement', 'different']\n",
      "['second', 'chapter']\n",
      "['build']\n",
      "['really', 'check']\n",
      "['user', 'critical', 'ensure']\n",
      "['sandro', 'testing']\n",
      "['online', 'define', 'target']\n",
      "['week', 'first']\n",
      "['study', 'computing', 'psychology']\n",
      "['actually', 'look', 'front']\n",
      "['first']\n",
      "['people']\n",
      "['could', 'better', 'software']\n",
      "['always', 'things']\n",
      "['befriend', 'people', 'going']\n",
      "['understand']\n",
      "['field']\n",
      "['strength']\n",
      "['competitor', 'actually', 'competitor']\n",
      "[]\n",
      "['think', 'awesome']\n",
      "['sierra', 'trade']\n",
      "[]\n",
      "['market', 'rich']\n",
      "['customer']\n",
      "['quality', 'times']\n",
      "['might', 'little', 'cheap']\n",
      "['often']\n",
      "['typical', 'group', 'could']\n",
      "['survey', 'host']\n",
      "['performant']\n",
      "['developer', 'tool']\n",
      "['things']\n",
      "['safari', 'challenge']\n",
      "['originally', 'chrome', 'without', 'extension']\n",
      "['things']\n",
      "['build', 'framework', 'tool']\n",
      "['explorer', 'interest']\n",
      "['think', 'sandwich']\n",
      "['point', 'problem', 'try']\n",
      "['really', 'really', 'great']\n",
      "['really', 'central', 'theme', 'around']\n",
      "['everything', 'describe']\n",
      "['unnecessary', 'least', 'office']\n",
      "['month', 'build']\n",
      "['practice', 'shift']\n",
      "['thing']\n",
      "['sense', 'opening']\n",
      "['reduce', 'stigma']\n",
      "['second', 'give', 'amazon', 'opportunity']\n",
      "['software', 'development', 'complex']\n",
      "['messina', 'suggest', 'first', 'hashtag']\n",
      "['responsiveness', 'bake']\n",
      "[]\n",
      "['things', 'person']\n",
      "['utilization', 'whether']\n",
      "['software', 'perform']\n",
      "['level', 'somebody', 'without', 'whole']\n",
      "['indicate', 'though', 'survey']\n",
      "['little', 'emmie', 'reach']\n",
      "['weekly', 'basis']\n",
      "['respond', 'anonymously', 'regular']\n",
      "['simple', 'using']\n",
      "['different', 'things']\n",
      "['follow', 'great', 'awesome', 'thank']\n",
      "[]\n",
      "['person', 'little', 'older', 'maybe']\n",
      "['customer', 'challenge']\n",
      "['prioritize', 'prioritize', 'choose']\n",
      "['ass', 'great']\n",
      "['process', 'reason']\n",
      "['designer']\n",
      "['terms', 'decision', 'making']\n",
      "['chris', 'sketch']\n",
      "['little', 'north']\n",
      "['alone']\n",
      "(0, '0.036*\"things\" + 0.036*\"think\" + 0.036*\"young\" + 0.036*\"stigma\"')\n",
      "(1, '0.075*\"great\" + 0.051*\"seam\" + 0.051*\"customer\" + 0.027*\"software\"')\n",
      "(2, '0.048*\"survey\" + 0.048*\"somebody\" + 0.025*\"tool\" + 0.025*\"different\"')\n",
      "(3, '0.048*\"really\" + 0.048*\"competitor\" + 0.025*\"important\" + 0.025*\"range\"')\n",
      "(4, '0.045*\"little\" + 0.024*\"person\" + 0.024*\"around\" + 0.024*\"central\"')\n",
      "(5, '0.047*\"take\" + 0.047*\"chapter\" + 0.025*\"wonderful\" + 0.025*\"official\"')\n",
      "(6, '0.047*\"right\" + 0.047*\"prioritize\" + 0.047*\"thing\" + 0.025*\"second\"')\n",
      "(7, '0.052*\"people\" + 0.027*\"pull\" + 0.027*\"without\" + 0.027*\"heart\"')\n",
      "(8, '0.068*\"really\" + 0.068*\"build\" + 0.068*\"first\" + 0.024*\"happen\"')\n",
      "(9, '0.067*\"things\" + 0.024*\"important\" + 0.024*\"actually\" + 0.024*\"perform\"')\n"
     ]
    }
   ],
   "source": [
    "import script\n",
    "import random\n",
    "text_data = []\n",
    "with open(r'C:\\Users\\Inspiron 15\\Desktop\\transcription\\t.csv') as f: #file in which the data set is present\n",
    "    for line in f:\n",
    "        tokens = script.prepare_text_for_lda(line) #it calls the function mentioned above to prepare the text in each line of data set.\n",
    "#NOTE: each line is passed as parameter.\n",
    "        if random.random() > .99:\n",
    "            print(tokens)\n",
    "            text_data.append(tokens)\n",
    "            \n",
    "#using gensim for topic modelling. Preparing the LDA topic model. \n",
    "\n",
    "from gensim import corpora\n",
    "dictionary = corpora.Dictionary(text_data)\n",
    "corpus = [dictionary.doc2bow(text) for text in text_data]\n",
    "\n",
    "import pickle\n",
    "pickle.dump(corpus, open('corpus.pkl', 'wb'))\n",
    "# words are being saved in dictionary for future use.\n",
    "dictionary.save('dictionary.gensim') #saving the dictionary\n",
    "\n",
    "import gensim\n",
    "NUM_TOPICS = 10 #to get the top 20 topics from the data-set.\n",
    "ldamodel = gensim.models.ldamodel.LdaModel(corpus, num_topics = NUM_TOPICS, id2word=dictionary, passes=15)\n",
    "ldamodel.save('model5.gensim')\n",
    "topics = ldamodel.print_topics(num_words=4)\n",
    "for topic in topics:\n",
    "    print(topic)  "
   ]
  },
  {
   "cell_type": "markdown",
   "metadata": {},
   "source": [
    "### f. Applying the model\n",
    "\n",
    "* tested the LDA topic model over an unknown text to get a probable topic.\n",
    "* Transcription of 5th you-tube video is fed to check what probable topic, the model results to. Link: https://www.youtube.com/watch?v=A_gHQq9iLxg"
   ]
  },
  {
   "cell_type": "code",
   "execution_count": 6,
   "metadata": {
    "scrolled": true
   },
   "outputs": [
    {
     "name": "stdout",
     "output_type": "stream",
     "text": [
      "[(1, 2), (9, 2), (13, 3), (16, 2), (18, 1), (26, 3), (31, 1), (32, 1), (51, 2), (55, 3), (56, 1), (58, 5), (60, 3), (63, 1), (66, 4), (72, 3), (74, 1), (81, 1), (84, 2), (86, 1), (89, 1), (90, 1), (112, 1), (124, 1), (129, 1), (145, 1), (151, 1), (154, 1), (155, 1), (156, 1), (169, 1), (170, 1), (177, 2)]\n",
      "[(0, 0.03249784), (1, 0.045114867), (2, 0.074610524), (3, 0.09469039), (4, 0.1379185), (5, 0.096762046), (6, 0.08481216), (7, 0.06480671), (8, 0.09453054), (9, 0.27425644)]\n"
     ]
    }
   ],
   "source": [
    "new_doc = '''hi I'm here with Richard Fulcher\n",
    "Richard is a UX designer at Google\n",
    "senior UX designer that's right and has\n",
    "been working on UX for the last 15 years\n",
    "thank you for joining us Richard it's a\n",
    "pleasure to be here today thanks for\n",
    "having me to get started can you\n",
    "describe what user experience design is\n",
    "sure it's it's a big umbrella of several\n",
    "related disciplines that are all focused\n",
    "on the design of experiences to help a\n",
    "individual person you know achieve some\n",
    "kind of goal and that covers a lot of\n",
    "different types of experiences most\n",
    "commonly we think about software design\n",
    "but it's also things like environment\n",
    "design and maybe the design of physical\n",
    "products it could even be things like\n",
    "event coordination it's kind of anything\n",
    "that a user experiences that can be\n",
    "constructed for them when I was kind of\n",
    "first taught this there was kind of five\n",
    "key concepts it's the study of users and\n",
    "their context can the environment they\n",
    "operate in in order that we can design\n",
    "tools for them to achieve tasks that let\n",
    "them complete goals so users context\n",
    "tasks and goals goals okay so let's\n",
    "start with the user who are they well\n",
    "the user is anyone who's going to use\n",
    "the product or the service that you're\n",
    "designing and it's really important to\n",
    "remember that that runs a really wide\n",
    "range you know it's very easy to kind of\n",
    "when you're designing just think about\n",
    "designing for yourself or this like one\n",
    "super idealized user that you have in\n",
    "mind\n",
    "but in reality you're gonna be building\n",
    "this for people with very different\n",
    "levels of experience with different\n",
    "contexts and different backgrounds that\n",
    "affect how they'll perceive this thing\n",
    "that you build for them all right and\n",
    "how do I know who the user is\n",
    "well the key for that is something\n",
    "called user research I think it's kind\n",
    "of most associated with this idea of\n",
    "taking this product you're working on\n",
    "and and testing it in some way you know\n",
    "having a user come in and try to perform\n",
    "a series of tasks\n",
    "that you assign them and see how they do\n",
    "and see the things that are problems for\n",
    "them but user research really covers the\n",
    "whole end-to-end development of the\n",
    "product even before you've drawn your\n",
    "first screen you can engage with user\n",
    "research to go into your potential users\n",
    "homes or workplaces to start to\n",
    "understand you know that context that's\n",
    "important to the way that they behave\n",
    "and what their goals are and once you've\n",
    "even kind of finished and shipped you\n",
    "can do things like look at logs and try\n",
    "to analyze usage patterns see what\n",
    "people are doing with your product\n",
    "perhaps kind of bias towards things that\n",
    "you want them to do more of or see areas\n",
    "that they're spending a lot of time in\n",
    "that you haven't anticipated\n",
    "''' #transcript whose topic is to be fetched\n",
    "new_doc = script.prepare_text_for_lda(new_doc)\n",
    "new_doc_bow = dictionary.doc2bow(new_doc)\n",
    "print(new_doc_bow)\n",
    "print(ldamodel.get_document_topics(new_doc_bow))\n",
    "\n",
    "#Following results to topics with probabilities. Topic with more probabilty is selected as the suited one."
   ]
  },
  {
   "cell_type": "markdown",
   "metadata": {},
   "source": [
    "#### Output\n",
    "\n",
    "* Topic 9(0.27424648 probability) which has words things, important,actually and perform.\n",
    "* **We can conclude that, it talks about things which are important for performance!** "
   ]
  },
  {
   "cell_type": "markdown",
   "metadata": {},
   "source": [
    "### g. Assigning human readable labels\n",
    "\n",
    "* The above topic can be labelled as *important features* by our wisdom.\n",
    "* Followed the link: http://www.aclweb.org/anthology/P11-1154 but could not figure out how to implement it."
   ]
  },
  {
   "cell_type": "code",
   "execution_count": 5,
   "metadata": {},
   "outputs": [
    {
     "data": {
      "image/png": "[encoded data removed]",
      "text/plain": [
       "<IPython.core.display.Image object>"
      ]
     },
     "execution_count": 5,
     "metadata": {
      "image/png": {
       "height": 300,
       "width": 700
      }
     },
     "output_type": "execute_result"
    }
   ],
   "source": [
    "from IPython.display import Image \n",
    "Image(filename = r\"C:\\Users\\Inspiron 15\\Desktop\\images\\labels.png\", width = 700, height = 300)"
   ]
  },
  {
   "cell_type": "markdown",
   "metadata": {},
   "source": [
    "## 6. Conclusion\n",
    "\n",
    "* Approximate topic for a youtube video is assigned.\n",
    "* Similar procedure is applied to other videos and near about results are obtained."
   ]
  }
 ],
 "metadata": {
  "kernelspec": {
   "display_name": "Python 3",
   "language": "python",
   "name": "python3"
  },
  "language_info": {
   "codemirror_mode": {
    "name": "ipython",
    "version": 3
   },
   "file_extension": ".py",
   "mimetype": "text/x-python",
   "name": "python",
   "nbconvert_exporter": "python",
   "pygments_lexer": "ipython3",
   "version": "3.7.0"
  }
 },
 "nbformat": 4,
 "nbformat_minor": 2
}
